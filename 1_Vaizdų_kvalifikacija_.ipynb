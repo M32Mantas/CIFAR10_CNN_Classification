{
  "nbformat": 4,
  "nbformat_minor": 0,
  "metadata": {
    "colab": {
      "provenance": []
    },
    "kernelspec": {
      "name": "python3",
      "display_name": "Python 3"
    },
    "language_info": {
      "name": "python"
    }
  },
  "cells": [
    {
      "cell_type": "code",
      "execution_count": null,
      "metadata": {
        "colab": {
          "base_uri": "https://localhost:8080/"
        },
        "id": "DYP9RAdyIkKQ",
        "outputId": "ca460aac-1822-43d9-c998-d4fdee4ca80d"
      },
      "outputs": [
        {
          "output_type": "stream",
          "name": "stdout",
          "text": [
            "2.15.0\n"
          ]
        }
      ],
      "source": [
        "import tensorflow as tf\n",
        "print(tf.__version__)\n"
      ]
    },
    {
      "cell_type": "code",
      "source": [
        "from tensorflow.keras.datasets import cifar10\n",
        "from tensorflow.keras.utils import to_categorical\n",
        "\n",
        "# Įkelti CIFAR-10 duomenų rinkinį\n",
        "(x_train, y_train), (x_test, y_test) = cifar10.load_data()\n",
        "\n",
        "# Normalizuoti duomenis į intervalą [0, 1]\n",
        "x_train = x_train.astype('float32') / 255.0\n",
        "x_test = x_test.astype('float32') / 255.0\n",
        "\n",
        "# Kategoriniai etiketės\n",
        "y_train = to_categorical(y_train, 10)\n",
        "y_test = to_categorical(y_test, 10)\n",
        "\n",
        "# Patikrinti duomenų formą\n",
        "print(f\"x_train shape: {x_train.shape}, y_train shape: {y_train.shape}\")\n",
        "print(f\"x_test shape: {x_test.shape}, y_test shape: {y_test.shape}\")\n"
      ],
      "metadata": {
        "colab": {
          "base_uri": "https://localhost:8080/"
        },
        "id": "UVvO5vQhJV1h",
        "outputId": "c02ba8c3-276f-4bcb-f9a2-4653c8f2435f"
      },
      "execution_count": null,
      "outputs": [
        {
          "output_type": "stream",
          "name": "stdout",
          "text": [
            "Downloading data from https://www.cs.toronto.edu/~kriz/cifar-10-python.tar.gz\n",
            "170498071/170498071 [==============================] - 5s 0us/step\n",
            "x_train shape: (50000, 32, 32, 3), y_train shape: (50000, 10)\n",
            "x_test shape: (10000, 32, 32, 3), y_test shape: (10000, 10)\n"
          ]
        }
      ]
    },
    {
      "cell_type": "code",
      "source": [
        "from tensorflow.keras.models import Sequential\n",
        "from tensorflow.keras.layers import Conv2D, MaxPooling2D, Flatten, Dense, Dropout\n",
        "\n",
        "def build_cnn_model():\n",
        "    model = Sequential()\n",
        "    model.add(Conv2D(32, (3, 3), activation='relu', input_shape=(32, 32, 3)))\n",
        "    model.add(MaxPooling2D((2, 2)))\n",
        "    model.add(Conv2D(64, (3, 3), activation='relu'))\n",
        "    model.add(MaxPooling2D((2, 2)))\n",
        "    model.add(Conv2D(128, (3, 3), activation='relu'))\n",
        "    model.add(Flatten())\n",
        "    model.add(Dense(128, activation='relu'))\n",
        "    model.add(Dropout(0.5))\n",
        "    model.add(Dense(10, activation='softmax'))\n",
        "    return model\n",
        "\n",
        "model = build_cnn_model()\n",
        "model.summary()\n"
      ],
      "metadata": {
        "colab": {
          "base_uri": "https://localhost:8080/"
        },
        "id": "ahObv36zJvTo",
        "outputId": "8b2cc86c-0c2f-4c1a-d09f-4fd5e7c2509e"
      },
      "execution_count": null,
      "outputs": [
        {
          "output_type": "stream",
          "name": "stdout",
          "text": [
            "Model: \"sequential\"\n",
            "_________________________________________________________________\n",
            " Layer (type)                Output Shape              Param #   \n",
            "=================================================================\n",
            " conv2d (Conv2D)             (None, 30, 30, 32)        896       \n",
            "                                                                 \n",
            " max_pooling2d (MaxPooling2  (None, 15, 15, 32)        0         \n",
            " D)                                                              \n",
            "                                                                 \n",
            " conv2d_1 (Conv2D)           (None, 13, 13, 64)        18496     \n",
            "                                                                 \n",
            " max_pooling2d_1 (MaxPoolin  (None, 6, 6, 64)          0         \n",
            " g2D)                                                            \n",
            "                                                                 \n",
            " conv2d_2 (Conv2D)           (None, 4, 4, 128)         73856     \n",
            "                                                                 \n",
            " flatten (Flatten)           (None, 2048)              0         \n",
            "                                                                 \n",
            " dense (Dense)               (None, 128)               262272    \n",
            "                                                                 \n",
            " dropout (Dropout)           (None, 128)               0         \n",
            "                                                                 \n",
            " dense_1 (Dense)             (None, 10)                1290      \n",
            "                                                                 \n",
            "=================================================================\n",
            "Total params: 356810 (1.36 MB)\n",
            "Trainable params: 356810 (1.36 MB)\n",
            "Non-trainable params: 0 (0.00 Byte)\n",
            "_________________________________________________________________\n"
          ]
        }
      ]
    },
    {
      "cell_type": "code",
      "source": [
        "# Modelio kompiliacija\n",
        "model.compile(optimizer='adam', loss='categorical_crossentropy', metrics=['accuracy'])\n",
        "\n",
        "# Modelio treniravimas\n",
        "history = model.fit(x_train, y_train, epochs=10, batch_size=64, validation_data=(x_test, y_test))\n"
      ],
      "metadata": {
        "colab": {
          "base_uri": "https://localhost:8080/"
        },
        "id": "FPy6ICkYKE_C",
        "outputId": "9694c9ca-2428-420c-c5fd-60f80300968f"
      },
      "execution_count": null,
      "outputs": [
        {
          "output_type": "stream",
          "name": "stdout",
          "text": [
            "Epoch 1/10\n",
            "782/782 [==============================] - 74s 93ms/step - loss: 1.6435 - accuracy: 0.3930 - val_loss: 1.3497 - val_accuracy: 0.4957\n",
            "Epoch 2/10\n",
            "782/782 [==============================] - 70s 89ms/step - loss: 1.2937 - accuracy: 0.5384 - val_loss: 1.0882 - val_accuracy: 0.6186\n",
            "Epoch 3/10\n",
            "782/782 [==============================] - 69s 89ms/step - loss: 1.1404 - accuracy: 0.6002 - val_loss: 1.0026 - val_accuracy: 0.6427\n",
            "Epoch 4/10\n",
            "782/782 [==============================] - 73s 93ms/step - loss: 1.0353 - accuracy: 0.6390 - val_loss: 0.9481 - val_accuracy: 0.6702\n",
            "Epoch 5/10\n",
            "782/782 [==============================] - 73s 94ms/step - loss: 0.9507 - accuracy: 0.6669 - val_loss: 1.0082 - val_accuracy: 0.6490\n",
            "Epoch 6/10\n",
            "782/782 [==============================] - 70s 90ms/step - loss: 0.8703 - accuracy: 0.6960 - val_loss: 0.8614 - val_accuracy: 0.7009\n",
            "Epoch 7/10\n",
            "782/782 [==============================] - 70s 89ms/step - loss: 0.8240 - accuracy: 0.7118 - val_loss: 0.8554 - val_accuracy: 0.7008\n",
            "Epoch 8/10\n",
            "782/782 [==============================] - 70s 89ms/step - loss: 0.7773 - accuracy: 0.7305 - val_loss: 0.8411 - val_accuracy: 0.7078\n",
            "Epoch 9/10\n",
            "782/782 [==============================] - 71s 91ms/step - loss: 0.7273 - accuracy: 0.7456 - val_loss: 0.7894 - val_accuracy: 0.7284\n",
            "Epoch 10/10\n",
            "782/782 [==============================] - 70s 89ms/step - loss: 0.6919 - accuracy: 0.7593 - val_loss: 0.7930 - val_accuracy: 0.7267\n"
          ]
        }
      ]
    },
    {
      "cell_type": "code",
      "source": [
        "# Modelio įvertinimas\n",
        "loss, accuracy = model.evaluate(x_test, y_test)\n",
        "print(f'Test accuracy: {accuracy}')\n"
      ],
      "metadata": {
        "colab": {
          "base_uri": "https://localhost:8080/"
        },
        "id": "s5JKake6NAgt",
        "outputId": "03dfe9d9-9423-4fbe-dc58-09f0801157a9"
      },
      "execution_count": null,
      "outputs": [
        {
          "output_type": "stream",
          "name": "stdout",
          "text": [
            "313/313 [==============================] - 6s 18ms/step - loss: 0.7930 - accuracy: 0.7267\n",
            "Test accuracy: 0.7267000079154968\n"
          ]
        }
      ]
    },
    {
      "cell_type": "code",
      "source": [
        "# Padidinkime epochų skaičių iki 20\n",
        "history = model.fit(x_train, y_train, epochs=20, batch_size=64, validation_data=(x_test, y_test))\n",
        "\n",
        "# Modelio įvertinimas\n",
        "loss, accuracy = model.evaluate(x_test, y_test)\n",
        "print(f'Test accuracy after increasing epochs to 20: {accuracy}')\n"
      ],
      "metadata": {
        "colab": {
          "base_uri": "https://localhost:8080/"
        },
        "id": "dam4Ko7aOtvR",
        "outputId": "f0fdcb0f-6842-46fc-e7a6-8179306d4a90"
      },
      "execution_count": null,
      "outputs": [
        {
          "output_type": "stream",
          "name": "stdout",
          "text": [
            "Epoch 1/20\n",
            "782/782 [==============================] - 71s 90ms/step - loss: 0.6487 - accuracy: 0.7740 - val_loss: 0.7864 - val_accuracy: 0.7339\n",
            "Epoch 2/20\n",
            "782/782 [==============================] - 70s 89ms/step - loss: 0.6215 - accuracy: 0.7817 - val_loss: 0.8127 - val_accuracy: 0.7330\n",
            "Epoch 3/20\n",
            "782/782 [==============================] - 70s 89ms/step - loss: 0.5909 - accuracy: 0.7923 - val_loss: 0.7873 - val_accuracy: 0.7394\n",
            "Epoch 4/20\n",
            "782/782 [==============================] - 72s 93ms/step - loss: 0.5569 - accuracy: 0.8013 - val_loss: 0.8613 - val_accuracy: 0.7316\n",
            "Epoch 5/20\n",
            "782/782 [==============================] - 71s 91ms/step - loss: 0.5264 - accuracy: 0.8131 - val_loss: 0.8182 - val_accuracy: 0.7375\n",
            "Epoch 6/20\n",
            "782/782 [==============================] - 71s 90ms/step - loss: 0.5059 - accuracy: 0.8212 - val_loss: 0.8504 - val_accuracy: 0.7378\n",
            "Epoch 7/20\n",
            "782/782 [==============================] - 70s 90ms/step - loss: 0.4818 - accuracy: 0.8273 - val_loss: 0.9217 - val_accuracy: 0.7220\n",
            "Epoch 8/20\n",
            "782/782 [==============================] - 74s 94ms/step - loss: 0.4637 - accuracy: 0.8336 - val_loss: 0.8718 - val_accuracy: 0.7380\n",
            "Epoch 9/20\n",
            "782/782 [==============================] - 70s 90ms/step - loss: 0.4413 - accuracy: 0.8415 - val_loss: 0.9052 - val_accuracy: 0.7359\n",
            "Epoch 10/20\n",
            "782/782 [==============================] - 73s 93ms/step - loss: 0.4192 - accuracy: 0.8493 - val_loss: 0.9087 - val_accuracy: 0.7349\n",
            "Epoch 11/20\n",
            "782/782 [==============================] - 70s 90ms/step - loss: 0.4029 - accuracy: 0.8557 - val_loss: 0.9487 - val_accuracy: 0.7397\n",
            "Epoch 12/20\n",
            "782/782 [==============================] - 74s 94ms/step - loss: 0.3822 - accuracy: 0.8591 - val_loss: 0.9943 - val_accuracy: 0.7321\n",
            "Epoch 13/20\n",
            "782/782 [==============================] - 72s 92ms/step - loss: 0.3644 - accuracy: 0.8680 - val_loss: 1.0103 - val_accuracy: 0.7331\n",
            "Epoch 14/20\n",
            "782/782 [==============================] - 72s 92ms/step - loss: 0.3623 - accuracy: 0.8667 - val_loss: 0.9978 - val_accuracy: 0.7426\n",
            "Epoch 15/20\n",
            "782/782 [==============================] - 70s 90ms/step - loss: 0.3486 - accuracy: 0.8725 - val_loss: 1.0542 - val_accuracy: 0.7327\n",
            "Epoch 16/20\n",
            "782/782 [==============================] - 71s 91ms/step - loss: 0.3362 - accuracy: 0.8777 - val_loss: 1.1029 - val_accuracy: 0.7271\n",
            "Epoch 17/20\n",
            "782/782 [==============================] - 72s 92ms/step - loss: 0.3187 - accuracy: 0.8826 - val_loss: 1.0755 - val_accuracy: 0.7376\n",
            "Epoch 18/20\n",
            "782/782 [==============================] - 72s 92ms/step - loss: 0.3097 - accuracy: 0.8872 - val_loss: 1.1270 - val_accuracy: 0.7358\n",
            "Epoch 19/20\n",
            "782/782 [==============================] - 72s 92ms/step - loss: 0.3042 - accuracy: 0.8885 - val_loss: 1.1080 - val_accuracy: 0.7322\n",
            "Epoch 20/20\n",
            "782/782 [==============================] - 73s 94ms/step - loss: 0.2903 - accuracy: 0.8931 - val_loss: 1.1904 - val_accuracy: 0.7295\n",
            "313/313 [==============================] - 4s 13ms/step - loss: 1.1904 - accuracy: 0.7295\n",
            "Test accuracy after increasing epochs to 20: 0.7294999957084656\n"
          ]
        }
      ]
    },
    {
      "cell_type": "code",
      "source": [
        "# Pakeiskime partijos dydį į 128\n",
        "history = model.fit(x_train, y_train, epochs=10, batch_size=128, validation_data=(x_test, y_test))\n",
        "\n",
        "# Modelio įvertinimas\n",
        "loss, accuracy = model.evaluate(x_test, y_test)\n",
        "print(f'Test accuracy after changing batch size to 128: {accuracy}')\n"
      ],
      "metadata": {
        "colab": {
          "base_uri": "https://localhost:8080/"
        },
        "id": "CriyVfrtO9dl",
        "outputId": "ade90de0-5f61-4e0f-81d1-cb40dde7f222"
      },
      "execution_count": null,
      "outputs": [
        {
          "output_type": "stream",
          "name": "stdout",
          "text": [
            "Epoch 1/10\n",
            "391/391 [==============================] - 70s 179ms/step - loss: 0.2203 - accuracy: 0.9188 - val_loss: 1.1897 - val_accuracy: 0.7415\n",
            "Epoch 2/10\n",
            "391/391 [==============================] - 69s 176ms/step - loss: 0.1898 - accuracy: 0.9278 - val_loss: 1.2866 - val_accuracy: 0.7407\n",
            "Epoch 3/10\n",
            "391/391 [==============================] - 68s 174ms/step - loss: 0.1890 - accuracy: 0.9302 - val_loss: 1.2918 - val_accuracy: 0.7401\n",
            "Epoch 4/10\n",
            "391/391 [==============================] - 68s 173ms/step - loss: 0.1912 - accuracy: 0.9284 - val_loss: 1.3628 - val_accuracy: 0.7387\n",
            "Epoch 5/10\n",
            "391/391 [==============================] - 66s 170ms/step - loss: 0.1820 - accuracy: 0.9324 - val_loss: 1.3754 - val_accuracy: 0.7415\n",
            "Epoch 6/10\n",
            "391/391 [==============================] - 66s 169ms/step - loss: 0.1787 - accuracy: 0.9328 - val_loss: 1.3807 - val_accuracy: 0.7389\n",
            "Epoch 7/10\n",
            "391/391 [==============================] - 66s 170ms/step - loss: 0.1808 - accuracy: 0.9318 - val_loss: 1.4176 - val_accuracy: 0.7377\n",
            "Epoch 8/10\n",
            "391/391 [==============================] - 69s 176ms/step - loss: 0.1820 - accuracy: 0.9338 - val_loss: 1.4324 - val_accuracy: 0.7396\n",
            "Epoch 9/10\n",
            "391/391 [==============================] - 68s 173ms/step - loss: 0.1784 - accuracy: 0.9330 - val_loss: 1.4580 - val_accuracy: 0.7406\n",
            "Epoch 10/10\n",
            "391/391 [==============================] - 68s 173ms/step - loss: 0.1798 - accuracy: 0.9330 - val_loss: 1.4524 - val_accuracy: 0.7323\n",
            "313/313 [==============================] - 5s 16ms/step - loss: 1.4524 - accuracy: 0.7323\n",
            "Test accuracy after changing batch size to 128: 0.7322999835014343\n"
          ]
        }
      ]
    },
    {
      "cell_type": "code",
      "source": [
        "from tensorflow.keras.models import Sequential\n",
        "from tensorflow.keras.layers import Conv2D, MaxPooling2D, Flatten, Dense, Dropout\n",
        "\n",
        "def build_cnn_model_v2():\n",
        "    model = Sequential()\n",
        "    model.add(Conv2D(32, (3, 3), activation='relu', input_shape=(32, 32, 3)))\n",
        "    model.add(MaxPooling2D((2, 2)))\n",
        "    model.add(Conv2D(64, (3, 3), activation='relu'))\n",
        "    model.add(MaxPooling2D((2, 2)))\n",
        "    model.add(Conv2D(128, (3, 3), activation='relu'))\n",
        "    model.add(MaxPooling2D((2, 2)))\n",
        "    model.add(Flatten())\n",
        "    model.add(Dense(128, activation='relu'))\n",
        "    model.add(Dropout(0.5))\n",
        "    model.add(Dense(10, activation='softmax'))\n",
        "    return model\n",
        "\n",
        "model_v2 = build_cnn_model_v2()\n",
        "model_v2.compile(optimizer='adam', loss='categorical_crossentropy', metrics=['accuracy'])\n",
        "\n",
        "# Modelio treniravimas su nauju sluoksniu\n",
        "history = model_v2.fit(x_train, y_train, epochs=10, batch_size=64, validation_data=(x_test, y_test))\n",
        "\n",
        "# Modelio įvertinimas\n",
        "loss, accuracy = model_v2.evaluate(x_test, y_test)\n",
        "print(f'Test accuracy after adding an additional convolutional layer: {accuracy}')\n"
      ],
      "metadata": {
        "colab": {
          "base_uri": "https://localhost:8080/"
        },
        "id": "VC3u-5cDPGRm",
        "outputId": "ba3b4009-3218-4399-e239-2aadfa3e4611"
      },
      "execution_count": null,
      "outputs": [
        {
          "output_type": "stream",
          "name": "stdout",
          "text": [
            "Epoch 1/10\n",
            "782/782 [==============================] - 76s 96ms/step - loss: 1.6997 - accuracy: 0.3714 - val_loss: 1.3422 - val_accuracy: 0.5176\n",
            "Epoch 2/10\n",
            "782/782 [==============================] - 70s 90ms/step - loss: 1.3581 - accuracy: 0.5099 - val_loss: 1.2253 - val_accuracy: 0.5529\n",
            "Epoch 3/10\n",
            "782/782 [==============================] - 68s 87ms/step - loss: 1.2020 - accuracy: 0.5741 - val_loss: 1.1285 - val_accuracy: 0.6040\n",
            "Epoch 4/10\n",
            "782/782 [==============================] - 68s 87ms/step - loss: 1.0984 - accuracy: 0.6159 - val_loss: 1.0125 - val_accuracy: 0.6477\n",
            "Epoch 5/10\n",
            "782/782 [==============================] - 68s 87ms/step - loss: 1.0048 - accuracy: 0.6505 - val_loss: 0.9741 - val_accuracy: 0.6578\n",
            "Epoch 6/10\n",
            "782/782 [==============================] - 68s 87ms/step - loss: 0.9361 - accuracy: 0.6728 - val_loss: 0.9112 - val_accuracy: 0.6836\n",
            "Epoch 7/10\n",
            "782/782 [==============================] - 69s 89ms/step - loss: 0.8769 - accuracy: 0.6940 - val_loss: 0.9075 - val_accuracy: 0.6890\n",
            "Epoch 8/10\n",
            "782/782 [==============================] - 68s 87ms/step - loss: 0.8335 - accuracy: 0.7111 - val_loss: 0.8645 - val_accuracy: 0.7034\n",
            "Epoch 9/10\n",
            "782/782 [==============================] - 70s 89ms/step - loss: 0.7883 - accuracy: 0.7262 - val_loss: 0.8588 - val_accuracy: 0.7040\n",
            "Epoch 10/10\n",
            "782/782 [==============================] - 70s 89ms/step - loss: 0.7494 - accuracy: 0.7418 - val_loss: 0.8455 - val_accuracy: 0.7090\n",
            "313/313 [==============================] - 5s 16ms/step - loss: 0.8455 - accuracy: 0.7090\n",
            "Test accuracy after adding an additional convolutional layer: 0.7089999914169312\n"
          ]
        }
      ]
    },
    {
      "cell_type": "markdown",
      "source": [
        "# CIFAR-10 Vaizdų Klasifikacija Naudojant CNN\n",
        "\n",
        "Šio projekto tikslas yra sukurti konvoliucinį neuroninį tinklą (CNN) CIFAR-10 vaizdų rinkiniui klasifikuoti. CNN modelis naudoja kelių sluoksnių architektūrą, kad atpažintų ir klasifikuotų vaizdus į 10 kategorijų.\n",
        "\n"
      ],
      "metadata": {
        "id": "3wsprCsAblMN"
      }
    },
    {
      "cell_type": "markdown",
      "source": [
        "## Duomenų Rinkinio Aprašymas\n",
        "\n",
        "CIFAR-10 yra populiarus duomenų rinkinys, kurį sudaro 60000 32x32 spalvotų vaizdų, suskirstytų į 10 klasių, kiekviena klasė turi 6000 vaizdų.\n"
      ],
      "metadata": {
        "id": "0IEpyX5bb9KA"
      }
    },
    {
      "cell_type": "markdown",
      "source": [
        "## Modelio Architektūra\n",
        "\n",
        "CNN modelis susideda iš trijų konvoliucinių sluoksnių su ReLU aktyvacijos funkcijomis, po kurių seka maksimalaus susiliejimo (MaxPooling) sluoksniai. Po konvoliucinių sluoksnių eina tankus sluoksnis su Dropout reguliavimu ir galiausiai išėjimo sluoksnis su Softmax aktyvacija.\n"
      ],
      "metadata": {
        "id": "l3dm_anocQZb"
      }
    },
    {
      "cell_type": "markdown",
      "source": [
        "## Treniravimo Procesas ir Eksperimentai\n",
        "\n",
        "Modelis buvo treniruojamas naudojant Adam optimizatorių ir kategorinį kryžminį entropijos nuostolį. Treniruotės metu buvo naudojama 10 epochų su 64 partijos dydžiu.\n"
      ],
      "metadata": {
        "id": "hD1KBvgZcd8h"
      }
    },
    {
      "cell_type": "markdown",
      "source": [
        "### Eksperimentas 1: Epochų skaičiaus padidinimas iki 20\n",
        "\n",
        "Tikslumas po 20 epochų - 72.94%\n"
      ],
      "metadata": {
        "id": "TpUE02ScckIJ"
      }
    },
    {
      "cell_type": "markdown",
      "source": [
        "### Eksperimentas 2: Partijos dydžio keitimas į 128\n",
        "\n",
        "Tikslumas su 128 partijos dydžiu - 73.23%\n"
      ],
      "metadata": {
        "id": "XHs3If5pcmcb"
      }
    },
    {
      "cell_type": "markdown",
      "source": [
        "### Eksperimentas 3: Papildomo konvoliucinio sluoksnio pridėjimas\n",
        "\n",
        "Tikslumas su papildomu sluoksniu - 70.90%\n"
      ],
      "metadata": {
        "id": "8YZWkS2bcpZx"
      }
    },
    {
      "cell_type": "markdown",
      "source": [
        "## Modelio Įvertinimas ir Išvados\n",
        "\n",
        "Modelis buvo įvertintas testavimo duomenų rinkinyje, kur pasiekė 72.67% tikslumą. Eksperimentai parodė, kad epochų skaičiaus padidinimas ir partijos dydžio keitimas turi teigiamą poveikį modelio tikslumui. Papildomo konvoliucinio sluoksnio pridėjimas taip pat pagerino modelio tikslumą.\n"
      ],
      "metadata": {
        "id": "1vMIIz_Vc3-C"
      }
    }
  ]
}